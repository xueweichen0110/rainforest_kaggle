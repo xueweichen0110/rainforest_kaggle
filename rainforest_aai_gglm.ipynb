{
  "nbformat": 4,
  "nbformat_minor": 0,
  "metadata": {
    "colab": {
      "name": "rainforest_aai_gglm.ipynb",
      "provenance": [],
      "collapsed_sections": [],
      "toc_visible": true,
      "authorship_tag": "ABX9TyPJvaNC3tQ7IqOS5fm/NzqV",
      "include_colab_link": true
    },
    "kernelspec": {
      "name": "python3",
      "display_name": "Python 3"
    }
  },
  "cells": [
    {
      "cell_type": "markdown",
      "metadata": {
        "id": "view-in-github",
        "colab_type": "text"
      },
      "source": [
        "<a href=\"https://colab.research.google.com/github/xueweichen0110/rainforest_kaggle/blob/main/rainforest_aai_gglm.ipynb\" target=\"_parent\"><img src=\"https://colab.research.google.com/assets/colab-badge.svg\" alt=\"Open In Colab\"/></a>"
      ]
    },
    {
      "cell_type": "markdown",
      "metadata": {
        "id": "jmLjJreybaoe"
      },
      "source": [
        "# To use glmm model to train audio files containing mixed species. \n",
        "\n",
        "##Steps:\n",
        "\n",
        "1.   Set up the Environment, i.e. install the required softwares etc\n",
        "2.   Download the datasets\n",
        "3.   Read flac files\n",
        "4.   Train data sets with package\n",
        "5.   Evaluate the model performance\n",
        "6.   List *item*\n",
        "7.   List item\n",
        "8.   List item\n",
        "9.   List item\n",
        "\n",
        "**ref** https://royalsocietypublishing.org/doi/full/10.1098/rsif.2018.0940#d3e1885"
      ]
    },
    {
      "cell_type": "markdown",
      "metadata": {
        "id": "NteUtA75hbsc"
      },
      "source": [
        "##1 Set up the Environment"
      ]
    },
    {
      "cell_type": "markdown",
      "metadata": {
        "id": "eQU5X9RSlyGm"
      },
      "source": [
        "##Install packages"
      ]
    },
    {
      "cell_type": "code",
      "metadata": {
        "id": "8z_UZXW5fmmk"
      },
      "source": [
        "!pip install rpy2"
      ],
      "execution_count": null,
      "outputs": []
    },
    {
      "cell_type": "markdown",
      "metadata": {
        "id": "DIf2PtekjPtY"
      },
      "source": [
        "## Installing the [Kaggle API](https://github.com/Kaggle/kaggle-api) in Colab"
      ]
    },
    {
      "cell_type": "code",
      "metadata": {
        "id": "OppyMnCuWjzJ",
        "colab": {
          "base_uri": "https://localhost:8080/"
        },
        "outputId": "aab67f47-1853-42ff-89c4-b0d64236d02e"
      },
      "source": [
        "!pip install kaggle"
      ],
      "execution_count": 14,
      "outputs": [
        {
          "output_type": "stream",
          "text": [
            "Requirement already satisfied: kaggle in /usr/local/lib/python3.6/dist-packages (1.5.10)\n",
            "Requirement already satisfied: python-dateutil in /usr/local/lib/python3.6/dist-packages (from kaggle) (2.8.1)\n",
            "Requirement already satisfied: python-slugify in /usr/local/lib/python3.6/dist-packages (from kaggle) (4.0.1)\n",
            "Requirement already satisfied: requests in /usr/local/lib/python3.6/dist-packages (from kaggle) (2.23.0)\n",
            "Requirement already satisfied: six>=1.10 in /usr/local/lib/python3.6/dist-packages (from kaggle) (1.15.0)\n",
            "Requirement already satisfied: certifi in /usr/local/lib/python3.6/dist-packages (from kaggle) (2020.12.5)\n",
            "Requirement already satisfied: urllib3 in /usr/local/lib/python3.6/dist-packages (from kaggle) (1.24.3)\n",
            "Requirement already satisfied: tqdm in /usr/local/lib/python3.6/dist-packages (from kaggle) (4.41.1)\n",
            "Requirement already satisfied: text-unidecode>=1.3 in /usr/local/lib/python3.6/dist-packages (from python-slugify->kaggle) (1.3)\n",
            "Requirement already satisfied: idna<3,>=2.5 in /usr/local/lib/python3.6/dist-packages (from requests->kaggle) (2.10)\n",
            "Requirement already satisfied: chardet<4,>=3.0.2 in /usr/local/lib/python3.6/dist-packages (from requests->kaggle) (3.0.4)\n"
          ],
          "name": "stdout"
        }
      ]
    },
    {
      "cell_type": "markdown",
      "metadata": {
        "id": "hMY4CFezjcG-"
      },
      "source": [
        "### Authenticating with Kaggle using kaggle.json\n",
        "\n",
        "Navigate to https://www.kaggle.com. Then go to the [Account tab of your user profile](https://www.kaggle.com/me/account) and select Create API Token. This will trigger the download of kaggle.json, a file containing your API credentials.\n",
        "\n",
        "Then run the cell below to upload kaggle.json to your Colab runtime."
      ]
    },
    {
      "cell_type": "code",
      "metadata": {
        "id": "0HtGf0HEXEa5",
        "colab": {
          "resources": {
            "http://localhost:8080/nbextensions/google.colab/files.js": {
              "data": "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",
              "ok": true,
              "headers": [
                [
                  "content-type",
                  "application/javascript"
                ]
              ],
              "status": 200,
              "status_text": ""
            }
          },
          "base_uri": "https://localhost:8080/",
          "height": 89
        },
        "outputId": "642c9594-6f78-4365-b125-72d108595a18"
      },
      "source": [
        "from google.colab import files\n",
        "\n",
        "uploaded = files.upload()\n",
        "\n",
        "for fn in uploaded.keys():\n",
        "  print('User uploaded file \"{name}\" with length {length} bytes'.format(\n",
        "      name=fn, length=len(uploaded[fn])))\n",
        "  \n",
        "# Then move kaggle.json into the folder where the API expects to find it.\n",
        "!mkdir -p ~/.kaggle/ && mv kaggle.json ~/.kaggle/ && chmod 600 ~/.kaggle/kaggle.json"
      ],
      "execution_count": 16,
      "outputs": [
        {
          "output_type": "display_data",
          "data": {
            "text/html": [
              "\n",
              "     <input type=\"file\" id=\"files-16541e6a-1758-4578-8598-dd29d96cdfc3\" name=\"files[]\" multiple disabled\n",
              "        style=\"border:none\" />\n",
              "     <output id=\"result-16541e6a-1758-4578-8598-dd29d96cdfc3\">\n",
              "      Upload widget is only available when the cell has been executed in the\n",
              "      current browser session. Please rerun this cell to enable.\n",
              "      </output>\n",
              "      <script src=\"/nbextensions/google.colab/files.js\"></script> "
            ],
            "text/plain": [
              "<IPython.core.display.HTML object>"
            ]
          },
          "metadata": {
            "tags": []
          }
        },
        {
          "output_type": "stream",
          "text": [
            "Saving kaggle.json to kaggle.json\n",
            "User uploaded file \"kaggle.json\" with length 65 bytes\n"
          ],
          "name": "stdout"
        }
      ]
    },
    {
      "cell_type": "markdown",
      "metadata": {
        "id": "HMk7Zz4ZkpCe"
      },
      "source": [
        "### Using the Kaggle API\n",
        "\n",
        "For a more complete list of what you can do with the API, visit https://github.com/Kaggle/kaggle-api."
      ]
    },
    {
      "cell_type": "markdown",
      "metadata": {
        "id": "SHVqmMXfilWG"
      },
      "source": [
        "### Listing competitions"
      ]
    },
    {
      "cell_type": "code",
      "metadata": {
        "id": "Oqt7Yfi5aQuM",
        "colab": {
          "base_uri": "https://localhost:8080/"
        },
        "outputId": "0a858628-b9a0-4f82-eac6-d95dab7bd42e"
      },
      "source": [
        "!kaggle competitions list"
      ],
      "execution_count": 17,
      "outputs": [
        {
          "output_type": "stream",
          "text": [
            "Warning: Looks like you're using an outdated API Version, please consider updating (server 1.5.10 / client 1.5.4)\n",
            "ref                                            deadline             category            reward  teamCount  userHasEntered  \n",
            "---------------------------------------------  -------------------  ---------------  ---------  ---------  --------------  \n",
            "contradictory-my-dear-watson                   2030-07-01 23:59:00  Getting Started     Prizes        105           False  \n",
            "gan-getting-started                            2030-07-01 23:59:00  Getting Started     Prizes        214           False  \n",
            "tpu-getting-started                            2030-06-03 23:59:00  Getting Started  Knowledge        326           False  \n",
            "digit-recognizer                               2030-01-01 00:00:00  Getting Started  Knowledge       2778           False  \n",
            "titanic                                        2030-01-01 00:00:00  Getting Started  Knowledge      21502           False  \n",
            "house-prices-advanced-regression-techniques    2030-01-01 00:00:00  Getting Started  Knowledge       5532           False  \n",
            "connectx                                       2030-01-01 00:00:00  Getting Started  Knowledge        480           False  \n",
            "nlp-getting-started                            2030-01-01 00:00:00  Getting Started  Knowledge       1482           False  \n",
            "competitive-data-science-predict-future-sales  2022-12-31 23:59:00  Playground           Kudos       9814           False  \n",
            "jane-street-market-prediction                  2021-02-22 23:59:00  Featured          $100,000       1043           False  \n",
            "cassava-leaf-disease-classification            2021-02-18 23:59:00  Research           $18,000       1316           False  \n",
            "rfcx-species-audio-detection                   2021-02-17 23:59:00  Research           $15,000        441            True  \n",
            "acea-water-prediction                          2021-02-17 23:59:00  Analytics          $25,000          0           False  \n",
            "rock-paper-scissors                            2021-02-01 23:59:00  Playground          Prizes       1097           False  \n",
            "hubmap-kidney-segmentation                     2021-02-01 23:59:00  Research           $60,000        425           False  \n",
            "santa-2020                                     2021-02-01 23:59:00  Featured            Prizes        272           False  \n",
            "riiid-test-answer-prediction                   2021-01-07 23:59:00  Featured          $100,000       2626           False  \n",
            "predict-volcanic-eruptions-ingv-oe             2021-01-06 23:59:00  Playground            Swag        429           False  \n",
            "kaggle-survey-2020                             2021-01-06 23:59:00  Analytics          $30,000          0           False  \n",
            "nfl-big-data-bowl-2021                         2021-01-05 23:59:00  Analytics         $100,000          0           False  \n"
          ],
          "name": "stdout"
        }
      ]
    },
    {
      "cell_type": "code",
      "metadata": {
        "colab": {
          "base_uri": "https://localhost:8080/"
        },
        "id": "XPSVp5WPXo-x",
        "outputId": "28c3d050-f170-4a3c-c6f5-e7360dce3239"
      },
      "source": [
        "from google.colab import drive\n",
        "drive.mount('/content/drive')"
      ],
      "execution_count": 18,
      "outputs": [
        {
          "output_type": "stream",
          "text": [
            "Mounted at /content/drive\n"
          ],
          "name": "stdout"
        }
      ]
    },
    {
      "cell_type": "code",
      "metadata": {
        "colab": {
          "base_uri": "https://localhost:8080/"
        },
        "id": "uhcmeme0ltUB",
        "outputId": "8e48d686-8a11-4d9e-a487-97bb64d0e614"
      },
      "source": [
        "!pip install soundfile"
      ],
      "execution_count": 19,
      "outputs": [
        {
          "output_type": "stream",
          "text": [
            "Collecting soundfile\n",
            "  Downloading https://files.pythonhosted.org/packages/eb/f2/3cbbbf3b96fb9fa91582c438b574cff3f45b29c772f94c400e2c99ef5db9/SoundFile-0.10.3.post1-py2.py3-none-any.whl\n",
            "Requirement already satisfied: cffi>=1.0 in /usr/local/lib/python3.6/dist-packages (from soundfile) (1.14.4)\n",
            "Requirement already satisfied: pycparser in /usr/local/lib/python3.6/dist-packages (from cffi>=1.0->soundfile) (2.20)\n",
            "Installing collected packages: soundfile\n",
            "Successfully installed soundfile-0.10.3.post1\n"
          ],
          "name": "stdout"
        }
      ]
    },
    {
      "cell_type": "markdown",
      "metadata": {
        "id": "dNke00r6ig3h"
      },
      "source": [
        "## 2 Downloading the datasets"
      ]
    },
    {
      "cell_type": "code",
      "metadata": {
        "colab": {
          "base_uri": "https://localhost:8080/"
        },
        "id": "Nn-CeDyGK-2f",
        "outputId": "c220404d-bfa2-4742-e7a0-0ff9cf74f71b"
      },
      "source": [
        "!pwd"
      ],
      "execution_count": 30,
      "outputs": [
        {
          "output_type": "stream",
          "text": [
            "/content\n"
          ],
          "name": "stdout"
        }
      ]
    },
    {
      "cell_type": "code",
      "metadata": {
        "id": "Aojvqv8Gaf8I",
        "colab": {
          "base_uri": "https://localhost:8080/"
        },
        "outputId": "2bd7f4dc-b73d-4e4e-dbaa-cb62b59c5241"
      },
      "source": [
        "!kaggle competitions download -c rfcx-species-audio-detection"
      ],
      "execution_count": 20,
      "outputs": [
        {
          "output_type": "stream",
          "text": [
            "Warning: Looks like you're using an outdated API Version, please consider updating (server 1.5.10 / client 1.5.4)\n",
            "Downloading 04-63.tfrec.zip to /content\n",
            " 97% 271M/279M [00:02<00:00, 141MB/s]\n",
            "100% 279M/279M [00:02<00:00, 120MB/s]\n",
            "Downloading 16-63.tfrec.zip to /content\n",
            " 99% 267M/269M [00:02<00:00, 130MB/s]\n",
            "100% 269M/269M [00:02<00:00, 126MB/s]\n",
            "Downloading 05-63.tfrec.zip to /content\n",
            " 97% 266M/275M [00:02<00:00, 145MB/s]\n",
            "100% 275M/275M [00:02<00:00, 132MB/s]\n",
            "Downloading 06-63.tfrec.zip to /content\n",
            " 96% 265M/277M [00:02<00:00, 166MB/s]\n",
            "100% 277M/277M [00:02<00:00, 108MB/s]\n",
            "Downloading 12-63.tfrec.zip to /content\n",
            " 97% 261M/269M [00:02<00:00, 123MB/s]\n",
            "100% 269M/269M [00:02<00:00, 122MB/s]\n",
            "Downloading 10-63.tfrec.zip to /content\n",
            " 95% 256M/268M [00:02<00:00, 134MB/s]\n",
            "100% 268M/268M [00:02<00:00, 125MB/s]\n",
            "Downloading 03-63.tfrec.zip to /content\n",
            " 93% 256M/274M [00:02<00:00, 91.6MB/s]\n",
            "100% 274M/274M [00:02<00:00, 128MB/s] \n",
            "Downloading 15-63.tfrec.zip to /content\n",
            " 94% 257M/274M [00:02<00:00, 128MB/s]\n",
            "100% 274M/274M [00:02<00:00, 131MB/s]\n",
            "Downloading 18-63.tfrec.zip to /content\n",
            " 95% 257M/270M [00:02<00:00, 130MB/s]\n",
            "100% 270M/270M [00:02<00:00, 126MB/s]\n",
            "Downloading 14-63.tfrec.zip to /content\n",
            " 96% 256M/266M [00:02<00:00, 92.6MB/s]\n",
            "100% 266M/266M [00:02<00:00, 101MB/s] \n",
            "Downloading 13-63.tfrec.zip to /content\n",
            " 99% 266M/270M [00:04<00:00, 36.9MB/s]\n",
            "100% 270M/270M [00:04<00:00, 61.6MB/s]\n",
            "Downloading 19-63.tfrec.zip to /content\n",
            "100% 268M/269M [00:04<00:00, 40.9MB/s]\n",
            "100% 269M/269M [00:04<00:00, 60.4MB/s]\n",
            "Downloading 11-63.tfrec.zip to /content\n",
            " 96% 260M/271M [00:04<00:00, 51.3MB/s]\n",
            "100% 271M/271M [00:04<00:00, 61.1MB/s]\n",
            "Downloading 02-63.tfrec.zip to /content\n",
            " 98% 265M/272M [00:04<00:00, 42.8MB/s]\n",
            "100% 272M/272M [00:04<00:00, 60.0MB/s]\n",
            "Downloading 09-63.tfrec.zip to /content\n",
            "100% 268M/268M [00:04<00:00, 64.2MB/s]\n",
            "100% 268M/268M [00:04<00:00, 61.1MB/s]\n",
            "Downloading 07-63.tfrec.zip to /content\n",
            "100% 270M/271M [00:04<00:00, 58.7MB/s]\n",
            "100% 271M/271M [00:04<00:00, 66.6MB/s]\n",
            "Downloading 17-63.tfrec.zip to /content\n",
            " 98% 265M/270M [00:04<00:00, 54.1MB/s]\n",
            "100% 270M/270M [00:04<00:00, 63.1MB/s]\n",
            "Downloading 00-63.tfrec.zip to /content\n",
            " 99% 269M/270M [00:03<00:00, 53.6MB/s]\n",
            "100% 270M/270M [00:03<00:00, 72.1MB/s]\n",
            "Downloading 01-63.tfrec.zip to /content\n",
            " 94% 254M/270M [00:03<00:00, 82.1MB/s]\n",
            "100% 270M/270M [00:03<00:00, 89.7MB/s]\n",
            "Downloading 08-63.tfrec.zip to /content\n",
            " 96% 257M/268M [00:06<00:00, 42.2MB/s]\n",
            "100% 268M/268M [00:06<00:00, 45.1MB/s]\n",
            "Downloading 07-148.tfrec.zip to /content\n",
            "100% 649M/652M [00:10<00:00, 46.8MB/s]\n",
            "100% 652M/652M [00:11<00:00, 61.8MB/s]\n",
            "Downloading 17-148.tfrec.zip to /content\n",
            " 98% 625M/640M [00:10<00:00, 67.3MB/s]\n",
            "100% 640M/640M [00:10<00:00, 62.7MB/s]\n",
            "Downloading 08-148.tfrec.zip to /content\n",
            " 98% 641M/651M [00:12<00:00, 31.5MB/s]\n",
            "100% 651M/651M [00:12<00:00, 53.6MB/s]\n",
            "Downloading 16-148.tfrec.zip to /content\n",
            " 98% 626M/636M [00:09<00:00, 45.0MB/s]\n",
            "100% 636M/636M [00:09<00:00, 72.7MB/s]\n",
            "Downloading 00-148.tfrec.zip to /content\n",
            "100% 648M/648M [00:10<00:00, 66.8MB/s]\n",
            "100% 648M/648M [00:10<00:00, 62.5MB/s]\n",
            "Downloading 03-148.tfrec.zip to /content\n",
            " 99% 639M/647M [00:11<00:00, 142MB/s]\n",
            "100% 647M/647M [00:11<00:00, 59.1MB/s]\n",
            "Downloading 18-148.tfrec.zip to /content\n",
            "100% 641M/644M [00:09<00:00, 45.1MB/s]\n",
            "100% 644M/644M [00:09<00:00, 72.8MB/s]\n",
            "Downloading 14-148.tfrec.zip to /content\n",
            " 98% 622M/636M [00:11<00:01, 14.6MB/s]\n",
            "100% 636M/636M [00:11<00:00, 56.1MB/s]\n",
            "Downloading 06-148.tfrec.zip to /content\n",
            " 99% 633M/641M [00:09<00:00, 68.3MB/s]\n",
            "100% 641M/641M [00:09<00:00, 69.7MB/s]\n",
            "Downloading 12-148.tfrec.zip to /content\n",
            " 98% 633M/643M [00:10<00:00, 76.2MB/s]\n",
            "100% 643M/643M [00:10<00:00, 63.2MB/s]\n",
            "Downloading 10-148.tfrec.zip to /content\n",
            "100% 634M/636M [00:14<00:00, 70.9MB/s]\n",
            "100% 636M/636M [00:14<00:00, 47.1MB/s]\n",
            "Downloading 09-148.tfrec.zip to /content\n",
            " 99% 634M/639M [00:06<00:00, 43.7MB/s]\n",
            "100% 639M/639M [00:06<00:00, 107MB/s] \n",
            "Downloading 01-148.tfrec.zip to /content\n",
            " 99% 637M/644M [00:13<00:00, 17.0MB/s]\n",
            "100% 644M/644M [00:13<00:00, 51.2MB/s]\n",
            "Downloading 04-148.tfrec.zip to /content\n",
            "100% 649M/649M [00:09<00:00, 31.7MB/s]\n",
            "100% 649M/649M [00:09<00:00, 70.7MB/s]\n",
            "Downloading 11-148.tfrec.zip to /content\n",
            " 99% 641M/644M [00:11<00:00, 54.6MB/s]\n",
            "100% 644M/644M [00:11<00:00, 58.1MB/s]\n",
            "Downloading 02-148.tfrec.zip to /content\n",
            " 99% 646M/650M [00:11<00:00, 43.8MB/s]\n",
            "100% 650M/650M [00:11<00:00, 61.0MB/s]\n",
            "Downloading 15-148.tfrec.zip to /content\n",
            " 99% 629M/636M [00:09<00:00, 79.1MB/s]\n",
            "100% 636M/636M [00:09<00:00, 69.7MB/s]\n",
            "Downloading 19-148.tfrec.zip to /content\n",
            "100% 635M/635M [00:10<00:00, 61.1MB/s]\n",
            "\n",
            "Downloading 13-148.tfrec.zip to /content\n",
            " 99% 633M/640M [00:10<00:00, 54.2MB/s]\n",
            "100% 640M/640M [00:10<00:00, 61.8MB/s]\n",
            "Downloading 05-148.tfrec.zip to /content\n",
            "100% 651M/651M [00:10<00:00, 105MB/s]\n",
            "\n",
            "Downloading 011318064.flac.zip to /content\n",
            "  0% 0.00/3.15M [00:00<?, ?B/s]\n",
            "100% 3.15M/3.15M [00:00<00:00, 104MB/s]\n",
            "Downloading 0232841d4.flac.zip to /content\n",
            "  0% 0.00/3.39M [00:00<?, ?B/s]\n",
            "100% 3.39M/3.39M [00:00<00:00, 112MB/s]\n",
            "Downloading 01bd97dd6.flac.zip to /content\n",
            "  0% 0.00/2.92M [00:00<?, ?B/s]\n",
            "100% 2.92M/2.92M [00:00<00:00, 95.5MB/s]\n",
            "Downloading 0303dee3c.flac.zip to /content\n",
            "  0% 0.00/3.42M [00:00<?, ?B/s]\n",
            "100% 3.42M/3.42M [00:00<00:00, 112MB/s]\n",
            "Downloading 037460d90.flac.zip to /content\n",
            "  0% 0.00/3.49M [00:00<?, ?B/s]\n",
            "100% 3.49M/3.49M [00:00<00:00, 114MB/s]\n",
            "Downloading 01d36def5.flac.zip to /content\n",
            "  0% 0.00/3.20M [00:00<?, ?B/s]\n",
            "100% 3.20M/3.20M [00:00<00:00, 105MB/s]\n",
            "Downloading 034f46152.flac.zip to /content\n",
            "  0% 0.00/2.84M [00:00<?, ?B/s]\n",
            "100% 2.84M/2.84M [00:00<00:00, 90.8MB/s]\n",
            "Downloading 02c30604d.flac.zip to /content\n",
            "  0% 0.00/3.27M [00:00<?, ?B/s]\n",
            "100% 3.27M/3.27M [00:00<00:00, 103MB/s]\n",
            "Downloading 019db5220.flac.zip to /content\n",
            "  0% 0.00/2.97M [00:00<?, ?B/s]\n",
            "100% 2.97M/2.97M [00:00<00:00, 97.6MB/s]\n",
            "Downloading 02dbcc383.flac.zip to /content\n",
            "  0% 0.00/3.59M [00:00<?, ?B/s]\n",
            "100% 3.59M/3.59M [00:00<00:00, 118MB/s]\n",
            "Downloading 039395460.flac.zip to /content\n",
            "  0% 0.00/3.31M [00:00<?, ?B/s]\n",
            "100% 3.31M/3.31M [00:00<00:00, 216MB/s]\n",
            "Downloading 01307e693.flac.zip to /content\n",
            "  0% 0.00/3.35M [00:00<?, ?B/s]\n",
            "100% 3.35M/3.35M [00:00<00:00, 111MB/s]\n",
            "Downloading 01812f522.flac.zip to /content\n",
            "  0% 0.00/3.51M [00:00<?, ?B/s]\n",
            "100% 3.51M/3.51M [00:00<00:00, 114MB/s]\n",
            "Downloading 0061c037e.flac.zip to /content\n",
            "  0% 0.00/3.22M [00:00<?, ?B/s]\n",
            "100% 3.22M/3.22M [00:00<00:00, 106MB/s]\n",
            "Downloading 01fefebcb.flac.zip to /content\n",
            "  0% 0.00/3.01M [00:00<?, ?B/s]\n",
            "100% 3.01M/3.01M [00:00<00:00, 199MB/s]\n",
            "Downloading 0208fec47.flac.zip to /content\n",
            "  0% 0.00/3.03M [00:00<?, ?B/s]\n",
            "100% 3.03M/3.03M [00:00<00:00, 154MB/s]\n",
            "Downloading 013bd8b85.flac.zip to /content\n",
            "  0% 0.00/3.42M [00:00<?, ?B/s]\n",
            "100% 3.42M/3.42M [00:00<00:00, 112MB/s]\n",
            "Downloading 010eb14d3.flac.zip to /content\n",
            "  0% 0.00/3.48M [00:00<?, ?B/s]\n",
            "100% 3.48M/3.48M [00:00<00:00, 114MB/s]\n",
            "Downloading 000316da7.flac.zip to /content\n",
            "  0% 0.00/3.10M [00:00<?, ?B/s]\n",
            "100% 3.10M/3.10M [00:00<00:00, 209MB/s]\n",
            "Downloading 003bc2cb2.flac.zip to /content\n",
            "  0% 0.00/3.35M [00:00<?, ?B/s]\n",
            "100% 3.35M/3.35M [00:00<00:00, 110MB/s]\n",
            "Downloading 009fbc7b4.flac.zip to /content\n",
            "  0% 0.00/3.32M [00:00<?, ?B/s]\n",
            "100% 3.32M/3.32M [00:00<00:00, 94.4MB/s]\n",
            "Downloading 009b760e6.flac.zip to /content\n",
            "  0% 0.00/3.17M [00:00<?, ?B/s]\n",
            "100% 3.17M/3.17M [00:00<00:00, 104MB/s]\n",
            "Downloading 0099c367b.flac.zip to /content\n",
            "  0% 0.00/2.99M [00:00<?, ?B/s]\n",
            "100% 2.99M/2.99M [00:00<00:00, 99.4MB/s]\n",
            "Downloading 003b04435.flac.zip to /content\n",
            "  0% 0.00/3.42M [00:00<?, ?B/s]\n",
            "100% 3.42M/3.42M [00:00<00:00, 112MB/s]\n",
            "Downloading 011f25080.flac.zip to /content\n",
            "  0% 0.00/3.45M [00:00<?, ?B/s]\n",
            "100% 3.45M/3.45M [00:00<00:00, 114MB/s]\n",
            "Downloading 007f87ba2.flac.zip to /content\n",
            "  0% 0.00/3.39M [00:00<?, ?B/s]\n",
            "100% 3.39M/3.39M [00:00<00:00, 110MB/s]\n",
            "Downloading 00d442df7.flac.zip to /content\n",
            "  0% 0.00/3.22M [00:00<?, ?B/s]\n",
            "100% 3.22M/3.22M [00:00<00:00, 219MB/s]\n",
            "Downloading 009aa1c8f.flac.zip to /content\n",
            "  0% 0.00/3.20M [00:00<?, ?B/s]\n",
            "100% 3.20M/3.20M [00:00<00:00, 88.8MB/s]\n",
            "Downloading 003bec244.flac.zip to /content\n",
            "  0% 0.00/3.27M [00:00<?, ?B/s]\n",
            "100% 3.27M/3.27M [00:00<00:00, 108MB/s]\n",
            "Downloading 00834f88e.flac.zip to /content\n",
            "  0% 0.00/3.31M [00:00<?, ?B/s]\n",
            "100% 3.31M/3.31M [00:00<00:00, 109MB/s]\n",
            "Downloading 00f3b3c1e.flac.zip to /content\n",
            "  0% 0.00/3.14M [00:00<?, ?B/s]\n",
            "100% 3.14M/3.14M [00:00<00:00, 210MB/s]\n",
            "Downloading 00ad36516.flac.zip to /content\n",
            "  0% 0.00/3.45M [00:00<?, ?B/s]\n",
            "100% 3.45M/3.45M [00:00<00:00, 186MB/s]\n",
            "Downloading 005f1f9a5.flac.zip to /content\n",
            "  0% 0.00/3.35M [00:00<?, ?B/s]\n",
            "100% 3.35M/3.35M [00:00<00:00, 221MB/s]\n",
            "Downloading 00b404881.flac.zip to /content\n",
            "  0% 0.00/3.52M [00:00<?, ?B/s]\n",
            "100% 3.52M/3.52M [00:00<00:00, 116MB/s]\n",
            "Downloading 0072f0839.flac.zip to /content\n",
            "  0% 0.00/2.90M [00:00<?, ?B/s]\n",
            "100% 2.90M/2.90M [00:00<00:00, 189MB/s]\n",
            "Downloading 00e3525a2.flac.zip to /content\n",
            "  0% 0.00/3.05M [00:00<?, ?B/s]\n",
            "100% 3.05M/3.05M [00:00<00:00, 201MB/s]\n",
            "Downloading 006ab765f.flac.zip to /content\n",
            "  0% 0.00/2.88M [00:00<?, ?B/s]\n",
            "100% 2.88M/2.88M [00:00<00:00, 195MB/s]\n",
            "Downloading 0079ff47b.flac.zip to /content\n",
            "  0% 0.00/3.29M [00:00<?, ?B/s]\n",
            "100% 3.29M/3.29M [00:00<00:00, 104MB/s]\n",
            "Downloading 00204008d.flac.zip to /content\n",
            "  0% 0.00/3.06M [00:00<?, ?B/s]\n",
            "100% 3.06M/3.06M [00:00<00:00, 149MB/s]\n",
            "Downloading 008c9c381.flac.zip to /content\n",
            "  0% 0.00/4.47M [00:00<?, ?B/s]\n",
            "100% 4.47M/4.47M [00:00<00:00, 126MB/s]\n",
            "Downloading train_fp.csv to /content\n",
            "  0% 0.00/344k [00:00<?, ?B/s]\n",
            "100% 344k/344k [00:00<00:00, 109MB/s]\n",
            "Downloading sample_submission.csv to /content\n",
            "  0% 0.00/206k [00:00<?, ?B/s]\n",
            "100% 206k/206k [00:00<00:00, 56.9MB/s]\n",
            "Downloading train_tp.csv to /content\n",
            "  0% 0.00/52.9k [00:00<?, ?B/s]\n",
            "100% 52.9k/52.9k [00:00<00:00, 45.7MB/s]\n"
          ],
          "name": "stdout"
        }
      ]
    },
    {
      "cell_type": "code",
      "metadata": {
        "colab": {
          "base_uri": "https://localhost:8080/"
        },
        "id": "I0DuI02SJGkv",
        "outputId": "2e25b2a2-7f86-4cf5-9ff8-e0f1808fef87"
      },
      "source": [
        "!unzip \\*.zip  && rm *.zip\n"
      ],
      "execution_count": 39,
      "outputs": [
        {
          "output_type": "stream",
          "text": [
            "Archive:  02-63.tfrec.zip\n",
            "  inflating: 02-63.tfrec             \n",
            "\n",
            "Archive:  00f3b3c1e.flac.zip\n",
            "  inflating: 00f3b3c1e.flac          \n",
            "\n",
            "Archive:  00b404881.flac.zip\n",
            "  inflating: 00b404881.flac          \n",
            "\n",
            "Archive:  04-63.tfrec.zip\n",
            "  inflating: 04-63.tfrec             \n",
            "\n",
            "Archive:  00204008d.flac.zip\n",
            "  inflating: 00204008d.flac          \n",
            "\n",
            "Archive:  17-148.tfrec.zip\n",
            "  inflating: 17-148.tfrec            \n",
            "\n",
            "Archive:  003b04435.flac.zip\n",
            "  inflating: 003b04435.flac          \n",
            "\n",
            "Archive:  11-63.tfrec.zip\n",
            "  inflating: 11-63.tfrec             \n",
            "\n",
            "Archive:  00d442df7.flac.zip\n",
            "  inflating: 00d442df7.flac          \n",
            "\n",
            "Archive:  009aa1c8f.flac.zip\n",
            "  inflating: 009aa1c8f.flac          \n",
            "\n",
            "Archive:  019db5220.flac.zip\n",
            "  inflating: 019db5220.flac          \n",
            "\n",
            "Archive:  00-148.tfrec.zip\n",
            "  inflating: 00-148.tfrec            \n",
            "\n",
            "Archive:  03-148.tfrec.zip\n",
            "  inflating: 03-148.tfrec            \n",
            "\n",
            "Archive:  02c30604d.flac.zip\n",
            "  inflating: 02c30604d.flac          \n",
            "\n",
            "Archive:  09-148.tfrec.zip\n",
            "  inflating: 09-148.tfrec            \n",
            "\n",
            "Archive:  01812f522.flac.zip\n",
            "  inflating: 01812f522.flac          \n",
            "\n",
            "Archive:  02-148.tfrec.zip\n",
            "  inflating: 02-148.tfrec            \n",
            "\n",
            "Archive:  08-63.tfrec.zip\n",
            "  inflating: 08-63.tfrec             \n",
            "\n",
            "Archive:  07-63.tfrec.zip\n",
            "  inflating: 07-63.tfrec             \n",
            "\n",
            "Archive:  037460d90.flac.zip\n",
            "  inflating: 037460d90.flac          \n",
            "\n",
            "Archive:  19-63.tfrec.zip\n",
            "  inflating: 19-63.tfrec             \n",
            "\n",
            "Archive:  13-148.tfrec.zip\n",
            "  inflating: 13-148.tfrec            \n",
            "\n",
            "Archive:  009fbc7b4.flac.zip\n",
            "  inflating: 009fbc7b4.flac          \n",
            "\n",
            "Archive:  19-148.tfrec.zip\n",
            "  inflating: 19-148.tfrec            \n",
            "\n",
            "Archive:  05-148.tfrec.zip\n",
            "  inflating: 05-148.tfrec            \n",
            "\n",
            "Archive:  00e3525a2.flac.zip\n",
            "  inflating: 00e3525a2.flac          \n",
            "\n",
            "Archive:  06-148.tfrec.zip\n",
            "  inflating: 06-148.tfrec            \n",
            "\n",
            "Archive:  05-63.tfrec.zip\n",
            "  inflating: 05-63.tfrec             \n",
            "\n",
            "Archive:  010eb14d3.flac.zip\n",
            "  inflating: 010eb14d3.flac          \n",
            "\n",
            "Archive:  011318064.flac.zip\n",
            "  inflating: 011318064.flac          \n",
            "\n",
            "Archive:  0232841d4.flac.zip\n",
            "  inflating: 0232841d4.flac          \n",
            "\n",
            "Archive:  011f25080.flac.zip\n",
            "  inflating: 011f25080.flac          \n",
            "\n",
            "Archive:  007f87ba2.flac.zip\n",
            "  inflating: 007f87ba2.flac          \n",
            "\n",
            "Archive:  06-63.tfrec.zip\n",
            "  inflating: 06-63.tfrec             \n",
            "\n",
            "Archive:  0072f0839.flac.zip\n",
            "  inflating: 0072f0839.flac          \n",
            "\n",
            "Archive:  12-63.tfrec.zip\n",
            "  inflating: 12-63.tfrec             \n",
            "\n",
            "Archive:  15-148.tfrec.zip\n",
            "  inflating: 15-148.tfrec            \n",
            "\n",
            "Archive:  01fefebcb.flac.zip\n",
            "  inflating: 01fefebcb.flac          \n",
            "\n",
            "Archive:  01307e693.flac.zip\n",
            "  inflating: 01307e693.flac          \n",
            "\n",
            "Archive:  0099c367b.flac.zip\n",
            "  inflating: 0099c367b.flac          \n",
            "\n",
            "Archive:  00-63.tfrec.zip\n",
            "  inflating: 00-63.tfrec             \n",
            "\n",
            "Archive:  13-63.tfrec.zip\n",
            "  inflating: 13-63.tfrec             \n",
            "\n",
            "Archive:  10-63.tfrec.zip\n",
            "  inflating: 10-63.tfrec             \n",
            "\n",
            "Archive:  008c9c381.flac.zip\n",
            "  inflating: 008c9c381.flac          \n",
            "\n",
            "Archive:  01-63.tfrec.zip\n",
            "  inflating: 01-63.tfrec             \n",
            "\n",
            "Archive:  10-148.tfrec.zip\n",
            "  inflating: 10-148.tfrec            \n",
            "\n",
            "Archive:  034f46152.flac.zip\n",
            "  inflating: 034f46152.flac          \n",
            "\n",
            "Archive:  04-148.tfrec.zip\n",
            "  inflating: 04-148.tfrec            \n",
            "\n",
            "Archive:  11-148.tfrec.zip\n",
            "  inflating: 11-148.tfrec            \n",
            "\n",
            "Archive:  0079ff47b.flac.zip\n",
            "  inflating: 0079ff47b.flac          \n",
            "\n",
            "Archive:  039395460.flac.zip\n",
            "  inflating: 039395460.flac          \n",
            "\n",
            "Archive:  03-63.tfrec.zip\n",
            "  inflating: 03-63.tfrec             \n",
            "\n",
            "Archive:  17-63.tfrec.zip\n",
            "  inflating: 17-63.tfrec             \n",
            "\n",
            "Archive:  003bec244.flac.zip\n",
            "  inflating: 003bec244.flac          \n",
            "\n",
            "Archive:  16-63.tfrec.zip\n",
            "  inflating: 16-63.tfrec             \n",
            "\n",
            "Archive:  01-148.tfrec.zip\n",
            "  inflating: 01-148.tfrec            \n",
            "\n",
            "Archive:  08-148.tfrec.zip\n",
            "  inflating: 08-148.tfrec            \n",
            "\n",
            "Archive:  12-148.tfrec.zip\n",
            "  inflating: 12-148.tfrec            \n",
            "\n",
            "Archive:  14-148.tfrec.zip\n",
            "  inflating: 14-148.tfrec            \n",
            "\n",
            "Archive:  02dbcc383.flac.zip\n",
            "  inflating: 02dbcc383.flac          \n",
            "\n",
            "Archive:  0061c037e.flac.zip\n",
            "  inflating: 0061c037e.flac          \n",
            "\n",
            "Archive:  005f1f9a5.flac.zip\n",
            "  inflating: 005f1f9a5.flac          \n",
            "\n",
            "Archive:  14-63.tfrec.zip\n",
            "  inflating: 14-63.tfrec             \n",
            "\n",
            "Archive:  18-63.tfrec.zip\n",
            "  inflating: 18-63.tfrec             \n",
            "\n",
            "Archive:  00ad36516.flac.zip\n",
            "  inflating: 00ad36516.flac          \n",
            "\n",
            "Archive:  013bd8b85.flac.zip\n",
            "  inflating: 013bd8b85.flac          \n",
            "\n",
            "Archive:  01d36def5.flac.zip\n",
            "  inflating: 01d36def5.flac          \n",
            "\n",
            "Archive:  00834f88e.flac.zip\n",
            "  inflating: 00834f88e.flac          \n",
            "\n",
            "Archive:  0208fec47.flac.zip\n",
            "  inflating: 0208fec47.flac          \n",
            "\n",
            "Archive:  009b760e6.flac.zip\n",
            "  inflating: 009b760e6.flac          \n",
            "\n",
            "Archive:  18-148.tfrec.zip\n",
            "  inflating: 18-148.tfrec            \n",
            "\n",
            "Archive:  09-63.tfrec.zip\n",
            "  inflating: 09-63.tfrec             \n",
            "\n",
            "Archive:  07-148.tfrec.zip\n",
            "  inflating: 07-148.tfrec            \n",
            "\n",
            "Archive:  000316da7.flac.zip\n",
            "  inflating: 000316da7.flac          \n",
            "\n",
            "Archive:  006ab765f.flac.zip\n",
            "  inflating: 006ab765f.flac          \n",
            "\n",
            "Archive:  01bd97dd6.flac.zip\n",
            "  inflating: 01bd97dd6.flac          \n",
            "\n",
            "Archive:  15-63.tfrec.zip\n",
            "  inflating: 15-63.tfrec             \n",
            "\n",
            "Archive:  16-148.tfrec.zip\n",
            "  inflating: 16-148.tfrec            \n",
            "\n",
            "Archive:  0303dee3c.flac.zip\n",
            "  inflating: 0303dee3c.flac          \n",
            "\n",
            "Archive:  003bc2cb2.flac.zip\n",
            "  inflating: 003bc2cb2.flac          \n",
            "\n",
            "80 archives were successfully processed.\n"
          ],
          "name": "stdout"
        }
      ]
    },
    {
      "cell_type": "code",
      "metadata": {
        "colab": {
          "base_uri": "https://localhost:8080/"
        },
        "id": "Y9L6rhUINuEF",
        "outputId": "9566f585-a335-4572-919b-246500f73533"
      },
      "source": [
        "!mkdir drive/MyDrive/kaggle"
      ],
      "execution_count": 41,
      "outputs": [
        {
          "output_type": "stream",
          "text": [
            "mkdir: cannot create directory ‘drive/MyDrive/kaggle’: File exists\n"
          ],
          "name": "stdout"
        }
      ]
    },
    {
      "cell_type": "code",
      "metadata": {
        "id": "RkMKOWlAOcz2"
      },
      "source": [
        "!mv *.flac drive/MyDrive/kaggle/"
      ],
      "execution_count": 47,
      "outputs": []
    },
    {
      "cell_type": "code",
      "metadata": {
        "id": "v_v4tmnoOx4Y"
      },
      "source": [
        "!mv *.tfrec drive/MyDrive/kaggle/"
      ],
      "execution_count": 48,
      "outputs": []
    },
    {
      "cell_type": "code",
      "metadata": {
        "id": "RVuHn8Q7PIhZ"
      },
      "source": [
        "!mv *.csv drive/MyDrive/kaggle/"
      ],
      "execution_count": 49,
      "outputs": []
    },
    {
      "cell_type": "markdown",
      "metadata": {
        "id": "DYcUAr8As1IX"
      },
      "source": [
        "##3 Read flac files \n",
        "\n",
        "ref: https://www.kaggle.com/rtatman/how-to-create-spectrograms-from-flac-files"
      ]
    },
    {
      "cell_type": "code",
      "metadata": {
        "id": "L7ZmFbHybsPk"
      },
      "source": [
        "import numpy as np\n",
        "import soundfile as sf\n",
        "import scipy.signal as signal\n",
        "import matplotlib.pyplot as plt"
      ],
      "execution_count": 23,
      "outputs": []
    },
    {
      "cell_type": "code",
      "metadata": {
        "id": "QLb34Nmzwxof"
      },
      "source": [
        "#!ls rainforest_kaggle/\n",
        "#!mkdir rainforest_kaggle\n",
        "#help('zipfile')\n",
        "import glob\n",
        "all_zips = glob.glob('*.zip')"
      ],
      "execution_count": 39,
      "outputs": []
    },
    {
      "cell_type": "code",
      "metadata": {
        "colab": {
          "base_uri": "https://localhost:8080/"
        },
        "id": "6vb7KnOY6PtZ",
        "outputId": "1114cadd-74cd-4b4a-c2d6-3321938b3582"
      },
      "source": [
        "# move data around\n",
        "#!mv sample_submission.csv rainforest_kaggle/"
      ],
      "execution_count": 51,
      "outputs": [
        {
          "output_type": "stream",
          "text": [
            "mv: cannot stat 'sample_submission.csv': No such file or directory\n"
          ],
          "name": "stdout"
        }
      ]
    },
    {
      "cell_type": "code",
      "metadata": {
        "id": "DsyV01gDaxls"
      },
      "source": [
        "import zipfile\n",
        "for zip_file in all_zips:\n",
        "  with zipfile.ZipFile(zip_file, 'r') as zip_ref:\n",
        "    zip_ref.extractall('rainforest_kaggle')"
      ],
      "execution_count": 42,
      "outputs": []
    },
    {
      "cell_type": "code",
      "metadata": {
        "id": "TAsW4MYsb_1k"
      },
      "source": [
        "data, samplerate = sf.read(\"000316da7.flac\")\n"
      ],
      "execution_count": 25,
      "outputs": []
    },
    {
      "cell_type": "code",
      "metadata": {
        "colab": {
          "base_uri": "https://localhost:8080/",
          "height": 296
        },
        "id": "kpWU6ajyspZt",
        "outputId": "a654a784-cf98-4a82-e025-6448f87eb042"
      },
      "source": [
        "freq, time, Sxx = signal.spectrogram(data, samplerate, scaling='spectrum')\n",
        "plt.pcolormesh(time, freq, Sxx)\n",
        "\n",
        "# add axis labels\n",
        "plt.ylabel('Frequency [Hz]')\n",
        "plt.xlabel('Time [sec]')"
      ],
      "execution_count": 26,
      "outputs": [
        {
          "output_type": "execute_result",
          "data": {
            "text/plain": [
              "Text(0.5, 0, 'Time [sec]')"
            ]
          },
          "metadata": {
            "tags": []
          },
          "execution_count": 26
        },
        {
          "output_type": "display_data",
          "data": {
            "image/png": "[encoded data removed]",
            "text/plain": [
              "<Figure size 432x288 with 1 Axes>"
            ]
          },
          "metadata": {
            "tags": [],
            "needs_background": "light"
          }
        }
      ]
    },
    {
      "cell_type": "markdown",
      "metadata": {
        "id": "ASQI0OfwFnQu"
      },
      "source": [
        "\n",
        "ref: https://github.com/pasca15/Rainforest_Kaggle/blob/main/Preprocessing_audio.ipynb\n",
        "\n",
        "**Read an Audio File**\n",
        "In TensorFlow IO, class tfio.audio.AudioIOTensor allows you to read an audio file into a lazy-loaded IOTensor:\n",
        "\n",
        "\n"
      ]
    },
    {
      "cell_type": "code",
      "metadata": {
        "id": "hoZwZwdRFlab"
      },
      "source": [
        "import os\n",
        "file_list = []\n",
        "for file in os.listdir(\"/content/drive/MyDrive/kaggle\"):\n",
        "    if file.endswith(\".flac\"):\n",
        "      file_list.append(file)"
      ],
      "execution_count": 5,
      "outputs": []
    },
    {
      "cell_type": "code",
      "metadata": {
        "colab": {
          "base_uri": "https://localhost:8080/"
        },
        "id": "32l0JFfHR28u",
        "outputId": "54e69d84-cd35-4616-af91-ebe247cb706c"
      },
      "source": [
        "!pip install tensorflow-io\n"
      ],
      "execution_count": 8,
      "outputs": [
        {
          "output_type": "stream",
          "text": [
            "Requirement already satisfied: tensorflow-io in /usr/local/lib/python3.6/dist-packages (0.16.0)\n",
            "Requirement already satisfied: tensorflow<2.4.0,>=2.3.0 in /usr/local/lib/python3.6/dist-packages (from tensorflow-io) (2.3.0)\n",
            "Requirement already satisfied: numpy<1.19.0,>=1.16.0 in /usr/local/lib/python3.6/dist-packages (from tensorflow<2.4.0,>=2.3.0->tensorflow-io) (1.18.5)\n",
            "Requirement already satisfied: google-pasta>=0.1.8 in /usr/local/lib/python3.6/dist-packages (from tensorflow<2.4.0,>=2.3.0->tensorflow-io) (0.2.0)\n",
            "Requirement already satisfied: absl-py>=0.7.0 in /usr/local/lib/python3.6/dist-packages (from tensorflow<2.4.0,>=2.3.0->tensorflow-io) (0.10.0)\n",
            "Requirement already satisfied: astunparse==1.6.3 in /usr/local/lib/python3.6/dist-packages (from tensorflow<2.4.0,>=2.3.0->tensorflow-io) (1.6.3)\n",
            "Requirement already satisfied: wheel>=0.26 in /usr/local/lib/python3.6/dist-packages (from tensorflow<2.4.0,>=2.3.0->tensorflow-io) (0.36.1)\n",
            "Requirement already satisfied: scipy==1.4.1 in /usr/local/lib/python3.6/dist-packages (from tensorflow<2.4.0,>=2.3.0->tensorflow-io) (1.4.1)\n",
            "Requirement already satisfied: tensorboard<3,>=2.3.0 in /usr/local/lib/python3.6/dist-packages (from tensorflow<2.4.0,>=2.3.0->tensorflow-io) (2.3.0)\n",
            "Requirement already satisfied: h5py<2.11.0,>=2.10.0 in /usr/local/lib/python3.6/dist-packages (from tensorflow<2.4.0,>=2.3.0->tensorflow-io) (2.10.0)\n",
            "Requirement already satisfied: termcolor>=1.1.0 in /usr/local/lib/python3.6/dist-packages (from tensorflow<2.4.0,>=2.3.0->tensorflow-io) (1.1.0)\n",
            "Requirement already satisfied: grpcio>=1.8.6 in /usr/local/lib/python3.6/dist-packages (from tensorflow<2.4.0,>=2.3.0->tensorflow-io) (1.34.0)\n",
            "Requirement already satisfied: tensorflow-estimator<2.4.0,>=2.3.0 in /usr/local/lib/python3.6/dist-packages (from tensorflow<2.4.0,>=2.3.0->tensorflow-io) (2.3.0)\n",
            "Requirement already satisfied: gast==0.3.3 in /usr/local/lib/python3.6/dist-packages (from tensorflow<2.4.0,>=2.3.0->tensorflow-io) (0.3.3)\n",
            "Requirement already satisfied: protobuf>=3.9.2 in /usr/local/lib/python3.6/dist-packages (from tensorflow<2.4.0,>=2.3.0->tensorflow-io) (3.12.4)\n",
            "Requirement already satisfied: six>=1.12.0 in /usr/local/lib/python3.6/dist-packages (from tensorflow<2.4.0,>=2.3.0->tensorflow-io) (1.15.0)\n",
            "Requirement already satisfied: opt-einsum>=2.3.2 in /usr/local/lib/python3.6/dist-packages (from tensorflow<2.4.0,>=2.3.0->tensorflow-io) (3.3.0)\n",
            "Requirement already satisfied: wrapt>=1.11.1 in /usr/local/lib/python3.6/dist-packages (from tensorflow<2.4.0,>=2.3.0->tensorflow-io) (1.12.1)\n",
            "Requirement already satisfied: keras-preprocessing<1.2,>=1.1.1 in /usr/local/lib/python3.6/dist-packages (from tensorflow<2.4.0,>=2.3.0->tensorflow-io) (1.1.2)\n",
            "Requirement already satisfied: google-auth<2,>=1.6.3 in /usr/local/lib/python3.6/dist-packages (from tensorboard<3,>=2.3.0->tensorflow<2.4.0,>=2.3.0->tensorflow-io) (1.17.2)\n",
            "Requirement already satisfied: markdown>=2.6.8 in /usr/local/lib/python3.6/dist-packages (from tensorboard<3,>=2.3.0->tensorflow<2.4.0,>=2.3.0->tensorflow-io) (3.3.3)\n",
            "Requirement already satisfied: google-auth-oauthlib<0.5,>=0.4.1 in /usr/local/lib/python3.6/dist-packages (from tensorboard<3,>=2.3.0->tensorflow<2.4.0,>=2.3.0->tensorflow-io) (0.4.2)\n",
            "Requirement already satisfied: setuptools>=41.0.0 in /usr/local/lib/python3.6/dist-packages (from tensorboard<3,>=2.3.0->tensorflow<2.4.0,>=2.3.0->tensorflow-io) (50.3.2)\n",
            "Requirement already satisfied: tensorboard-plugin-wit>=1.6.0 in /usr/local/lib/python3.6/dist-packages (from tensorboard<3,>=2.3.0->tensorflow<2.4.0,>=2.3.0->tensorflow-io) (1.7.0)\n",
            "Requirement already satisfied: requests<3,>=2.21.0 in /usr/local/lib/python3.6/dist-packages (from tensorboard<3,>=2.3.0->tensorflow<2.4.0,>=2.3.0->tensorflow-io) (2.23.0)\n",
            "Requirement already satisfied: werkzeug>=0.11.15 in /usr/local/lib/python3.6/dist-packages (from tensorboard<3,>=2.3.0->tensorflow<2.4.0,>=2.3.0->tensorflow-io) (1.0.1)\n",
            "Requirement already satisfied: rsa<5,>=3.1.4; python_version >= \"3\" in /usr/local/lib/python3.6/dist-packages (from google-auth<2,>=1.6.3->tensorboard<3,>=2.3.0->tensorflow<2.4.0,>=2.3.0->tensorflow-io) (4.6)\n",
            "Requirement already satisfied: cachetools<5.0,>=2.0.0 in /usr/local/lib/python3.6/dist-packages (from google-auth<2,>=1.6.3->tensorboard<3,>=2.3.0->tensorflow<2.4.0,>=2.3.0->tensorflow-io) (4.1.1)\n",
            "Requirement already satisfied: pyasn1-modules>=0.2.1 in /usr/local/lib/python3.6/dist-packages (from google-auth<2,>=1.6.3->tensorboard<3,>=2.3.0->tensorflow<2.4.0,>=2.3.0->tensorflow-io) (0.2.8)\n",
            "Requirement already satisfied: importlib-metadata; python_version < \"3.8\" in /usr/local/lib/python3.6/dist-packages (from markdown>=2.6.8->tensorboard<3,>=2.3.0->tensorflow<2.4.0,>=2.3.0->tensorflow-io) (3.1.1)\n",
            "Requirement already satisfied: requests-oauthlib>=0.7.0 in /usr/local/lib/python3.6/dist-packages (from google-auth-oauthlib<0.5,>=0.4.1->tensorboard<3,>=2.3.0->tensorflow<2.4.0,>=2.3.0->tensorflow-io) (1.3.0)\n",
            "Requirement already satisfied: certifi>=2017.4.17 in /usr/local/lib/python3.6/dist-packages (from requests<3,>=2.21.0->tensorboard<3,>=2.3.0->tensorflow<2.4.0,>=2.3.0->tensorflow-io) (2020.12.5)\n",
            "Requirement already satisfied: chardet<4,>=3.0.2 in /usr/local/lib/python3.6/dist-packages (from requests<3,>=2.21.0->tensorboard<3,>=2.3.0->tensorflow<2.4.0,>=2.3.0->tensorflow-io) (3.0.4)\n",
            "Requirement already satisfied: idna<3,>=2.5 in /usr/local/lib/python3.6/dist-packages (from requests<3,>=2.21.0->tensorboard<3,>=2.3.0->tensorflow<2.4.0,>=2.3.0->tensorflow-io) (2.10)\n",
            "Requirement already satisfied: urllib3!=1.25.0,!=1.25.1,<1.26,>=1.21.1 in /usr/local/lib/python3.6/dist-packages (from requests<3,>=2.21.0->tensorboard<3,>=2.3.0->tensorflow<2.4.0,>=2.3.0->tensorflow-io) (1.24.3)\n",
            "Requirement already satisfied: pyasn1>=0.1.3 in /usr/local/lib/python3.6/dist-packages (from rsa<5,>=3.1.4; python_version >= \"3\"->google-auth<2,>=1.6.3->tensorboard<3,>=2.3.0->tensorflow<2.4.0,>=2.3.0->tensorflow-io) (0.4.8)\n",
            "Requirement already satisfied: zipp>=0.5 in /usr/local/lib/python3.6/dist-packages (from importlib-metadata; python_version < \"3.8\"->markdown>=2.6.8->tensorboard<3,>=2.3.0->tensorflow<2.4.0,>=2.3.0->tensorflow-io) (3.4.0)\n",
            "Requirement already satisfied: oauthlib>=3.0.0 in /usr/local/lib/python3.6/dist-packages (from requests-oauthlib>=0.7.0->google-auth-oauthlib<0.5,>=0.4.1->tensorboard<3,>=2.3.0->tensorflow<2.4.0,>=2.3.0->tensorflow-io) (3.1.0)\n"
          ],
          "name": "stdout"
        }
      ]
    },
    {
      "cell_type": "code",
      "metadata": {
        "colab": {
          "base_uri": "https://localhost:8080/"
        },
        "id": "OHpFZMvaSSv3",
        "outputId": "d300d72b-7b5a-4f26-c6a0-cf8dfa7ffa85"
      },
      "source": [
        "%cd drive/MyDrive/kaggle/"
      ],
      "execution_count": 7,
      "outputs": [
        {
          "output_type": "stream",
          "text": [
            "/content/drive/MyDrive/kaggle\n"
          ],
          "name": "stdout"
        }
      ]
    },
    {
      "cell_type": "markdown",
      "metadata": {
        "id": "92oZ6Fc-fWwL"
      },
      "source": [
        "**Get the file in a list**\n",
        "\n",
        "Create a list of required files\n",
        "Input\n",
        "a File list\n",
        "\n",
        "Output\n",
        "- raw: a list of numpy arrays for the raw files\n",
        "- trim: a list of numpy arrays for the files with noise trimmed\n",
        "- add: a list of numpy arrays for the files with noise added\n",
        "- pitch: a list of numpy arrays for the files with pitch shifted\n",
        "- pitch_rev: a list of numpy arrays for the files with pitch shifted in a different direction\n",
        "- time: a list of numpy array for the files with time stretched"
      ]
    },
    {
      "cell_type": "code",
      "metadata": {
        "id": "2LlGJwu3RmK-"
      },
      "source": [
        "import tensorflow as tf\n",
        "import tensorflow_io as tfio\n",
        "import numpy\n",
        "import librosa\n",
        "\n",
        "def tensor_to_numpy(input_file):\n",
        "  tensor = tf.cast(input_file, tf.float32) / 32768.0\n",
        "  return tensor.numpy()\n",
        "\n",
        "raw = []\n",
        "trim = []\n",
        "add = []\n",
        "pitch = []\n",
        "pitch_rev = []\n",
        "time = []  \n",
        "for i in file_list:\n",
        "  audio = tfio.audio.AudioIOTensor(i)\n",
        "  audio_slice = audio[100:]\n",
        "  audio_tensor = tf.squeeze(audio_slice, axis=[-1])\n",
        "  tensor = tf.cast(audio_tensor, tf.float32) / 32768.0\n",
        "  raw.append(tensor.numpy())\n",
        "  wav, sr = librosa.load(i, sr=None)\n",
        "  #stretch the time\n",
        "  factor = 0.4\n",
        "  wav_time_stch = librosa.effects.time_stretch(wav, factor)\n",
        "  time.append(tensor_to_numpy(wav_time_stch))\n",
        "  #trim the noise\n",
        "  position = tfio.experimental.audio.trim(tensor, axis=0, epsilon=0.1)\n",
        "\n",
        "  start = position[0]\n",
        "  stop = position[1]\n",
        "\n",
        "  processed = wav_time_stch[start:stop]\n",
        "  trim.append(tensor_to_numpy(processed))\n",
        "\n",
        "  #add the noise\n",
        "  wav_n = wav_time_stch + 0.009*numpy.random.normal(0,1,len(wav_time_stch))\n",
        "  add.append(tensor_to_numpy(wav_n))\n",
        "\n",
        "  #shift the pitch\n",
        "  wav_pitch_stch = librosa.effects.pitch_shift(wav_time_stch,sr, n_steps=-5)\n",
        "  pitch.append(tensor_to_numpy(wav_pitch_stch))\n",
        "\n",
        "  wav_pitch_stch_reverse = librosa.effects.pitch_shift(wav_time_stch,sr, n_steps=5)\n",
        "  pitch_rev.append(tensor_to_numpy(wav_pitch_stch_reverse))"
      ],
      "execution_count": 9,
      "outputs": []
    },
    {
      "cell_type": "code",
      "metadata": {
        "id": "7q5r028UirUz"
      },
      "source": [
        "import numpy as np\n"
      ],
      "execution_count": 11,
      "outputs": []
    },
    {
      "cell_type": "code",
      "metadata": {
        "colab": {
          "base_uri": "https://localhost:8080/"
        },
        "id": "OIFqWCYSVGA6",
        "outputId": "7539dfb5-89b7-4121-df08-7b196126dc9c"
      },
      "source": [
        "print(np.shape(raw),np.shape(trim),np.shape(pitch),np.shape(pitch_rev),np.shape(time))\n"
      ],
      "execution_count": 12,
      "outputs": [
        {
          "output_type": "stream",
          "text": [
            "(40, 2879900) (40,) (40, 7200768) (40, 7200768) (40, 7200768)\n"
          ],
          "name": "stdout"
        }
      ]
    },
    {
      "cell_type": "code",
      "metadata": {
        "id": "F8rA0ym_i6kc"
      },
      "source": [
        "import pandas as pd"
      ],
      "execution_count": 13,
      "outputs": []
    },
    {
      "cell_type": "code",
      "metadata": {
        "id": "4oiGMFA3oNxV"
      },
      "source": [
        "record_ids = list(map(lambda it: it.strip('.flac'), file_list))"
      ],
      "execution_count": 14,
      "outputs": []
    },
    {
      "cell_type": "code",
      "metadata": {
        "colab": {
          "base_uri": "https://localhost:8080/"
        },
        "id": "2Wb6XrNyoG8H",
        "outputId": "4e402ffd-9a20-4dc9-c2f8-40dd0b3262c8"
      },
      "source": [
        "print(record_ids)"
      ],
      "execution_count": 114,
      "outputs": [
        {
          "output_type": "stream",
          "text": [
            "<map object at 0x7f56f3dd7518>\n"
          ],
          "name": "stdout"
        }
      ]
    },
    {
      "cell_type": "code",
      "metadata": {
        "colab": {
          "base_uri": "https://localhost:8080/",
          "height": 164
        },
        "id": "BYCa5lEXnO7x",
        "outputId": "5881a79f-de73-4453-d85f-8334052e5985"
      },
      "source": [
        "#train_df = pd.DataFrame(time[:10,], columns= record_ids[:10])\n",
        "#tbd..."
      ],
      "execution_count": 3,
      "outputs": [
        {
          "output_type": "error",
          "ename": "NameError",
          "evalue": "ignored",
          "traceback": [
            "\u001b[0;31m---------------------------------------------------------------------------\u001b[0m",
            "\u001b[0;31mNameError\u001b[0m                                 Traceback (most recent call last)",
            "\u001b[0;32m<ipython-input-3-a0b5c687b477>\u001b[0m in \u001b[0;36m<module>\u001b[0;34m()\u001b[0m\n\u001b[0;32m----> 1\u001b[0;31m \u001b[0mtrain_df\u001b[0m \u001b[0;34m=\u001b[0m \u001b[0mpd\u001b[0m\u001b[0;34m.\u001b[0m\u001b[0mDataFrame\u001b[0m\u001b[0;34m(\u001b[0m\u001b[0mtime\u001b[0m\u001b[0;34m[\u001b[0m\u001b[0;34m:\u001b[0m\u001b[0;36m10\u001b[0m\u001b[0;34m,\u001b[0m\u001b[0;34m]\u001b[0m\u001b[0;34m,\u001b[0m \u001b[0mcolumns\u001b[0m\u001b[0;34m=\u001b[0m \u001b[0mrecord_ids\u001b[0m\u001b[0;34m)\u001b[0m\u001b[0;34m\u001b[0m\u001b[0;34m\u001b[0m\u001b[0m\n\u001b[0m",
            "\u001b[0;31mNameError\u001b[0m: name 'time' is not defined"
          ]
        }
      ]
    },
    {
      "cell_type": "markdown",
      "metadata": {
        "id": "Pc-1f_pg9IDn"
      },
      "source": [
        "## 4 Read annotation files"
      ]
    },
    {
      "cell_type": "markdown",
      "metadata": {
        "id": "a0fzUbjz9MtG"
      },
      "source": [
        "import csv\n",
        "sample_sub_fn = 'rainforest_kaggle/sample_submission.csv'\n",
        "train_fp_fn = 'rainforest_kaggle/train_fp.csv'\n",
        "train_tp_fn = 'rainforest_kaggle/train_tp.csv'"
      ]
    },
    {
      "cell_type": "code",
      "metadata": {
        "id": "hVGtgC9MjdSc"
      },
      "source": [
        "!ls"
      ],
      "execution_count": null,
      "outputs": []
    },
    {
      "cell_type": "code",
      "metadata": {
        "colab": {
          "base_uri": "https://localhost:8080/"
        },
        "id": "lU_hqF3l9Nq-",
        "outputId": "675e254d-5859-4920-b1aa-ef9cc0f8234e"
      },
      "source": [
        "\n",
        "import glob\n",
        "import pandas as pd\n",
        "\n",
        "\n",
        "all_files = glob.glob(\"*.csv\")\n",
        "\n",
        "li = []\n",
        "\n",
        "for filename in all_files:\n",
        "    print(filename)\n",
        "    df = pd.read_csv(filename, index_col=None, header=0)\n",
        "    li.append(df)\n",
        "  "
      ],
      "execution_count": 16,
      "outputs": [
        {
          "output_type": "stream",
          "text": [
            "sample_submission.csv\n",
            "train_fp.csv\n",
            "train_tp.csv\n"
          ],
          "name": "stdout"
        }
      ]
    },
    {
      "cell_type": "code",
      "metadata": {
        "colab": {
          "base_uri": "https://localhost:8080/"
        },
        "id": "d_-ZcuJL-kib",
        "outputId": "a1eca70e-9aa7-4521-894b-656b0e25ff97"
      },
      "source": [
        "all_files"
      ],
      "execution_count": 17,
      "outputs": [
        {
          "output_type": "execute_result",
          "data": {
            "text/plain": [
              "['sample_submission.csv', 'train_fp.csv', 'train_tp.csv']"
            ]
          },
          "metadata": {
            "tags": []
          },
          "execution_count": 17
        }
      ]
    },
    {
      "cell_type": "code",
      "metadata": {
        "colab": {
          "base_uri": "https://localhost:8080/"
        },
        "id": "AqrpeV_j-di8",
        "outputId": "ec6e945e-7f3d-4062-b02b-42352aa1b5e6"
      },
      "source": [
        "print(np.shape(li[0]), np.shape(li[1]), np.shape(li[2]))"
      ],
      "execution_count": 19,
      "outputs": [
        {
          "output_type": "stream",
          "text": [
            "(1992, 25) (7781, 7) (1216, 7)\n"
          ],
          "name": "stdout"
        }
      ]
    },
    {
      "cell_type": "code",
      "metadata": {
        "id": "ARAe43Me-nAL"
      },
      "source": [
        "columns = li[2].columns\n",
        "data = li[2]\n"
      ],
      "execution_count": 20,
      "outputs": []
    },
    {
      "cell_type": "markdown",
      "metadata": {
        "id": "5JRxT_oilAcB"
      },
      "source": [
        "# Train the model \n",
        "\n",
        "ref https://www.kaggle.com/ojwatson/mixed-models"
      ]
    },
    {
      "cell_type": "markdown",
      "metadata": {
        "id": "k7O8xNxl0bPK"
      },
      "source": [
        "##Browse the data distribution"
      ]
    },
    {
      "cell_type": "code",
      "metadata": {
        "colab": {
          "base_uri": "https://localhost:8080/"
        },
        "id": "sNXiDvtBlUHR",
        "outputId": "f3a844e0-1450-4058-c30c-d98f255693fd"
      },
      "source": [
        "!pip install statsmodels \n"
      ],
      "execution_count": 21,
      "outputs": [
        {
          "output_type": "stream",
          "text": [
            "Requirement already satisfied: statsmodels in /usr/local/lib/python3.6/dist-packages (0.10.2)\n",
            "Requirement already satisfied: numpy>=1.11 in /usr/local/lib/python3.6/dist-packages (from statsmodels) (1.18.5)\n",
            "Requirement already satisfied: pandas>=0.19 in /usr/local/lib/python3.6/dist-packages (from statsmodels) (1.1.5)\n",
            "Requirement already satisfied: patsy>=0.4.0 in /usr/local/lib/python3.6/dist-packages (from statsmodels) (0.5.1)\n",
            "Requirement already satisfied: scipy>=0.18 in /usr/local/lib/python3.6/dist-packages (from statsmodels) (1.4.1)\n",
            "Requirement already satisfied: pytz>=2017.2 in /usr/local/lib/python3.6/dist-packages (from pandas>=0.19->statsmodels) (2018.9)\n",
            "Requirement already satisfied: python-dateutil>=2.7.3 in /usr/local/lib/python3.6/dist-packages (from pandas>=0.19->statsmodels) (2.8.1)\n",
            "Requirement already satisfied: six in /usr/local/lib/python3.6/dist-packages (from patsy>=0.4.0->statsmodels) (1.15.0)\n"
          ],
          "name": "stdout"
        }
      ]
    },
    {
      "cell_type": "code",
      "metadata": {
        "id": "fygW_ifN1Lc6"
      },
      "source": [
        "import statsmodels.api as sm\n",
        "import statsmodels.formula.api as smf\n",
        "import seaborn as sns; sns.set()\n",
        "import matplotlib.pyplot as plt\n",
        "\n",
        "from sklearn.metrics import mean_squared_error\n",
        "from math import sqrt"
      ],
      "execution_count": null,
      "outputs": []
    },
    {
      "cell_type": "code",
      "metadata": {
        "colab": {
          "base_uri": "https://localhost:8080/",
          "height": 339
        },
        "id": "z-ap2S9o0J-h",
        "outputId": "872a8940-79ee-4525-c459-f328f4526456"
      },
      "source": [
        "sns.distplot(data.f_min)\n",
        "plt.show()"
      ],
      "execution_count": 44,
      "outputs": [
        {
          "output_type": "stream",
          "text": [
            "/usr/local/lib/python3.6/dist-packages/seaborn/distributions.py:2551: FutureWarning: `distplot` is a deprecated function and will be removed in a future version. Please adapt your code to use either `displot` (a figure-level function with similar flexibility) or `histplot` (an axes-level function for histograms).\n",
            "  warnings.warn(msg, FutureWarning)\n"
          ],
          "name": "stderr"
        },
        {
          "output_type": "display_data",
          "data": {
            "image/png": "[encoded data removed]",
            "text/plain": [
              "<Figure size 432x288 with 1 Axes>"
            ]
          },
          "metadata": {
            "tags": []
          }
        }
      ]
    },
    {
      "cell_type": "code",
      "metadata": {
        "colab": {
          "base_uri": "https://localhost:8080/",
          "height": 339
        },
        "id": "y9SyUiqE0V0l",
        "outputId": "2c106e54-2ec0-4a18-a2a0-92cb1152bd8a"
      },
      "source": [
        "sns.distplot(data.t_min)\n",
        "plt.show()"
      ],
      "execution_count": 45,
      "outputs": [
        {
          "output_type": "stream",
          "text": [
            "/usr/local/lib/python3.6/dist-packages/seaborn/distributions.py:2551: FutureWarning: `distplot` is a deprecated function and will be removed in a future version. Please adapt your code to use either `displot` (a figure-level function with similar flexibility) or `histplot` (an axes-level function for histograms).\n",
            "  warnings.warn(msg, FutureWarning)\n"
          ],
          "name": "stderr"
        },
        {
          "output_type": "display_data",
          "data": {
            "image/png": "[encoded data removed]",
            "text/plain": [
              "<Figure size 432x288 with 1 Axes>"
            ]
          },
          "metadata": {
            "tags": []
          }
        }
      ]
    },
    {
      "cell_type": "code",
      "metadata": {
        "colab": {
          "base_uri": "https://localhost:8080/",
          "height": 339
        },
        "id": "u28ojTVn0lqJ",
        "outputId": "89ad76d5-d944-4553-c933-94a793a8e3fd"
      },
      "source": [
        "sns.distplot(data.t_max)\n",
        "plt.show()"
      ],
      "execution_count": 46,
      "outputs": [
        {
          "output_type": "stream",
          "text": [
            "/usr/local/lib/python3.6/dist-packages/seaborn/distributions.py:2551: FutureWarning: `distplot` is a deprecated function and will be removed in a future version. Please adapt your code to use either `displot` (a figure-level function with similar flexibility) or `histplot` (an axes-level function for histograms).\n",
            "  warnings.warn(msg, FutureWarning)\n"
          ],
          "name": "stderr"
        },
        {
          "output_type": "display_data",
          "data": {
            "image/png": "[encoded data removed]",
            "text/plain": [
              "<Figure size 432x288 with 1 Axes>"
            ]
          },
          "metadata": {
            "tags": []
          }
        }
      ]
    },
    {
      "cell_type": "code",
      "metadata": {
        "colab": {
          "base_uri": "https://localhost:8080/",
          "height": 339
        },
        "id": "Vvgv2GMH0lbR",
        "outputId": "71d8cfa7-3164-4a64-cfc2-e47c95a7b867"
      },
      "source": [
        "sns.distplot(data.f_max)\n",
        "plt.show()"
      ],
      "execution_count": 47,
      "outputs": [
        {
          "output_type": "stream",
          "text": [
            "/usr/local/lib/python3.6/dist-packages/seaborn/distributions.py:2551: FutureWarning: `distplot` is a deprecated function and will be removed in a future version. Please adapt your code to use either `displot` (a figure-level function with similar flexibility) or `histplot` (an axes-level function for histograms).\n",
            "  warnings.warn(msg, FutureWarning)\n"
          ],
          "name": "stderr"
        },
        {
          "output_type": "display_data",
          "data": {
            "image/png": "[encoded data removed]",
            "text/plain": [
              "<Figure size 432x288 with 1 Axes>"
            ]
          },
          "metadata": {
            "tags": []
          }
        }
      ]
    },
    {
      "cell_type": "code",
      "metadata": {
        "id": "S0RyNjbS0xn3"
      },
      "source": [
        "## Scale the input variables"
      ],
      "execution_count": null,
      "outputs": []
    },
    {
      "cell_type": "code",
      "metadata": {
        "id": "_nG6Yu4800hH"
      },
      "source": [
        "from sklearn import preprocessing\n",
        "data[\"f_min_scaled\"] = preprocessing.scale(data.f_min)\n",
        "data[\"f_max_scaled\"] = preprocessing.scale(data.f_max)\n",
        "data[\"t_min_scaled\"] = preprocessing.scale(data.t_min)\n",
        "data[\"t_max_scaled\"] = preprocessing.scale(data.t_max)\n"
      ],
      "execution_count": 55,
      "outputs": []
    },
    {
      "cell_type": "code",
      "metadata": {
        "colab": {
          "base_uri": "https://localhost:8080/"
        },
        "id": "KfxUZGDYlBHc",
        "outputId": "5a5cede1-31a3-495a-dc84-bcfd20f60e15"
      },
      "source": [
        "#construct the model, use sontype_id as group\n",
        "md = smf.mixedlm(\"species_id ~ t_min_scaled + f_min_scaled + t_max_scaled + f_max_scaled\", data, groups=data[\"songtype_id\"], \n",
        "                 re_formula=\"~t_min_scaled + f_min_scaled + t_max_scaled + f_max_scaled\")\n",
        "mdf = md.fit()\n",
        "print(mdf.summary())"
      ],
      "execution_count": 56,
      "outputs": [
        {
          "output_type": "stream",
          "text": [
            "/usr/local/lib/python3.6/dist-packages/statsmodels/base/model.py:512: ConvergenceWarning: Maximum Likelihood optimization failed to converge. Check mle_retvals\n",
            "  \"Check mle_retvals\", ConvergenceWarning)\n",
            "/usr/local/lib/python3.6/dist-packages/statsmodels/regression/mixed_linear_model.py:2059: ConvergenceWarning: Retrying MixedLM optimization with lbfgs\n",
            "  ConvergenceWarning)\n"
          ],
          "name": "stderr"
        },
        {
          "output_type": "stream",
          "text": [
            "                   Mixed Linear Model Regression Results\n",
            "============================================================================\n",
            "Model:                    MixedLM       Dependent Variable:       species_id\n",
            "No. Observations:         1216          Method:                   REML      \n",
            "No. Groups:               2             Scale:                    36.6612   \n",
            "Min. group size:          128           Likelihood:               -3917.7470\n",
            "Max. group size:          1088          Converged:                Yes       \n",
            "Mean group size:          608.0                                             \n",
            "----------------------------------------------------------------------------\n",
            "                                 Coef.  Std.Err.   z    P>|z|  [0.025 0.975]\n",
            "----------------------------------------------------------------------------\n",
            "Intercept                        13.936    1.760  7.920 0.000  10.487 17.385\n",
            "t_min_scaled                    -25.952    9.838 -2.638 0.008 -45.235 -6.669\n",
            "f_min_scaled                      1.749    1.456  1.201 0.230  -1.105  4.602\n",
            "t_max_scaled                     26.208   10.011  2.618 0.009   6.588 45.829\n",
            "f_max_scaled                     -1.732    2.083 -0.831 0.406  -5.816  2.351\n",
            "Group Var                         5.412    0.738                            \n",
            "Group x t_min_scaled Cov          1.220    3.422                            \n",
            "t_min_scaled Var                  6.373                                     \n",
            "Group x f_min_scaled Cov         -2.390    0.532                            \n",
            "t_min_scaled x f_min_scaled Cov  -0.755                                     \n",
            "f_min_scaled Var                  1.157    0.302                            \n",
            "Group x t_max_scaled Cov         -1.658    3.517                            \n",
            "t_min_scaled x t_max_scaled Cov  -7.273                                     \n",
            "f_min_scaled x t_max_scaled Cov   1.069                                     \n",
            "t_max_scaled Var                 13.815                                     \n",
            "Group x f_max_scaled Cov          0.990    0.729                            \n",
            "t_min_scaled x f_max_scaled Cov   1.841                                     \n",
            "f_min_scaled x f_max_scaled Cov  -0.624    0.231                            \n",
            "t_max_scaled x f_max_scaled Cov  -3.526                                     \n",
            "f_max_scaled Var                  1.155                                     \n",
            "============================================================================\n",
            "\n"
          ],
          "name": "stdout"
        },
        {
          "output_type": "stream",
          "text": [
            "/usr/local/lib/python3.6/dist-packages/statsmodels/regression/mixed_linear_model.py:2115: ConvergenceWarning: The Hessian matrix at the estimated parameter values is not positive definite.\n",
            "  warnings.warn(msg, ConvergenceWarning)\n",
            "/usr/local/lib/python3.6/dist-packages/statsmodels/base/model.py:1286: RuntimeWarning: invalid value encountered in sqrt\n",
            "  bse_ = np.sqrt(np.diag(self.cov_params()))\n"
          ],
          "name": "stderr"
        }
      ]
    },
    {
      "cell_type": "markdown",
      "metadata": {
        "id": "HaBHDEAYto97"
      },
      "source": [
        "# plot the predictions\n"
      ]
    },
    {
      "cell_type": "code",
      "metadata": {
        "colab": {
          "base_uri": "https://localhost:8080/",
          "height": 399
        },
        "id": "oKD6ouc6ts1t",
        "outputId": "6bd90545-1bf4-40fd-831d-55c87b331fce"
      },
      "source": [
        "performance = pd.DataFrame()\n",
        "performance[\"residuals\"] = mdf.resid.values\n",
        "performance[\"t_min_scaled\"] = data.t_min_scaled\n",
        "performance[\"f_min_scaled\"] = data.f_min_scaled\n",
        "performance[\"t_max_scaled\"] = data.t_max_scaled\n",
        "performance[\"f_max_scaled\"] = data.f_max_scaled\n",
        "performance[\"predicted\"] = mdf.fittedvalues\n",
        "\n",
        "sns.lmplot(x = \"predicted\", y = \"residuals\", data = performance)"
      ],
      "execution_count": 57,
      "outputs": [
        {
          "output_type": "execute_result",
          "data": {
            "text/plain": [
              "<seaborn.axisgrid.FacetGrid at 0x7fcaceafc630>"
            ]
          },
          "metadata": {
            "tags": []
          },
          "execution_count": 57
        },
        {
          "output_type": "display_data",
          "data": {
            "image/png": "[encoded data removed]",
            "text/plain": [
              "<Figure size 360x360 with 1 Axes>"
            ]
          },
          "metadata": {
            "tags": []
          }
        }
      ]
    },
    {
      "cell_type": "code",
      "metadata": {
        "colab": {
          "base_uri": "https://localhost:8080/",
          "height": 285
        },
        "id": "t9aj5uEsxYJt",
        "outputId": "0b8702d8-f884-4b8d-f894-98c282fccb44"
      },
      "source": [
        "ax = sns.residplot(x = \"t_min_scaled\", y = \"residuals\", data = performance, lowess=True)\n",
        "ax.set(ylabel='Observed - Prediction')\n",
        "plt.show()"
      ],
      "execution_count": 59,
      "outputs": [
        {
          "output_type": "display_data",
          "data": {
            "image/png": "[encoded data removed]",
            "text/plain": [
              "<Figure size 432x288 with 1 Axes>"
            ]
          },
          "metadata": {
            "tags": []
          }
        }
      ]
    },
    {
      "cell_type": "code",
      "metadata": {
        "colab": {
          "base_uri": "https://localhost:8080/",
          "height": 285
        },
        "id": "Npj1KFCrx819",
        "outputId": "dc8fb832-b0ab-4aae-c1c2-5d12dbf4d95e"
      },
      "source": [
        "ax = sns.residplot(x = \"f_min_scaled\", y = \"residuals\", data = performance, lowess=True)\n",
        "ax.set(ylabel='Observed - Prediction')\n",
        "plt.show()"
      ],
      "execution_count": 60,
      "outputs": [
        {
          "output_type": "display_data",
          "data": {
            "image/png": "[encoded data removed]",
            "text/plain": [
              "<Figure size 432x288 with 1 Axes>"
            ]
          },
          "metadata": {
            "tags": []
          }
        }
      ]
    },
    {
      "cell_type": "code",
      "metadata": {
        "colab": {
          "base_uri": "https://localhost:8080/",
          "height": 285
        },
        "id": "IDHRJhrQyEYz",
        "outputId": "62fcabd8-f7c9-4265-c6a0-042ce73197bc"
      },
      "source": [
        "ax = sns.residplot(x = \"t_max_scaled\", y = \"residuals\", data = performance, lowess=True)\n",
        "ax.set(ylabel='Observed - Prediction')\n",
        "plt.show()"
      ],
      "execution_count": 61,
      "outputs": [
        {
          "output_type": "display_data",
          "data": {
            "image/png": "[encoded data removed]",
            "text/plain": [
              "<Figure size 432x288 with 1 Axes>"
            ]
          },
          "metadata": {
            "tags": []
          }
        }
      ]
    },
    {
      "cell_type": "code",
      "metadata": {
        "colab": {
          "base_uri": "https://localhost:8080/",
          "height": 285
        },
        "id": "JaobBosPyHLL",
        "outputId": "a7953ed5-be94-4c70-bfea-8d03b02c3fd9"
      },
      "source": [
        "ax = sns.residplot(x = \"f_max_scaled\", y = \"residuals\", data = performance, lowess=True)\n",
        "ax.set(ylabel='Observed - Prediction')\n",
        "plt.show()"
      ],
      "execution_count": 62,
      "outputs": [
        {
          "output_type": "display_data",
          "data": {
            "image/png": "[encoded data removed]",
            "text/plain": [
              "<Figure size 432x288 with 1 Axes>"
            ]
          },
          "metadata": {
            "tags": []
          }
        }
      ]
    },
    {
      "cell_type": "markdown",
      "metadata": {
        "id": "OPiFprj9zCIM"
      },
      "source": [
        "# 6 Evaluate the performace of the model"
      ]
    },
    {
      "cell_type": "code",
      "metadata": {
        "id": "Bm-xH37jzBEw"
      },
      "source": [
        "y = data.species_id\n"
      ],
      "execution_count": 63,
      "outputs": []
    },
    {
      "cell_type": "code",
      "metadata": {
        "colab": {
          "base_uri": "https://localhost:8080/",
          "height": 80
        },
        "id": "3y3uBMc7yQXz",
        "outputId": "afef6d40-337e-454e-d606-1b4621e8784e"
      },
      "source": [
        "y_predict = mdf.fittedvalues\n",
        "RMSE = sqrt(((y-y_predict)**2).values.mean())\n",
        "results = pd.DataFrame()\n",
        "results[\"Method\"] = [\"Mixed_Random_Slopes\"]\n",
        "results[\"RMSE\"] = RMSE\n",
        "results"
      ],
      "execution_count": 64,
      "outputs": [
        {
          "output_type": "execute_result",
          "data": {
            "text/html": [
              "<div>\n",
              "<style scoped>\n",
              "    .dataframe tbody tr th:only-of-type {\n",
              "        vertical-align: middle;\n",
              "    }\n",
              "\n",
              "    .dataframe tbody tr th {\n",
              "        vertical-align: top;\n",
              "    }\n",
              "\n",
              "    .dataframe thead th {\n",
              "        text-align: right;\n",
              "    }\n",
              "</style>\n",
              "<table border=\"1\" class=\"dataframe\">\n",
              "  <thead>\n",
              "    <tr style=\"text-align: right;\">\n",
              "      <th></th>\n",
              "      <th>Method</th>\n",
              "      <th>RMSE</th>\n",
              "    </tr>\n",
              "  </thead>\n",
              "  <tbody>\n",
              "    <tr>\n",
              "      <th>0</th>\n",
              "      <td>Mixed_Random_Slopes</td>\n",
              "      <td>6.037396</td>\n",
              "    </tr>\n",
              "  </tbody>\n",
              "</table>\n",
              "</div>"
            ],
            "text/plain": [
              "                Method      RMSE\n",
              "0  Mixed_Random_Slopes  6.037396"
            ]
          },
          "metadata": {
            "tags": []
          },
          "execution_count": 64
        }
      ]
    }
  ]
}